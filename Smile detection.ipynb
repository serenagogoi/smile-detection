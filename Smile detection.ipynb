{
 "cells": [
  {
   "cell_type": "code",
   "execution_count": 1,
   "id": "7c15fb06",
   "metadata": {},
   "outputs": [
    {
     "name": "stdout",
     "output_type": "stream",
     "text": [
      "Defaulting to user installation because normal site-packages is not writeable\n",
      "Requirement already satisfied: opencv-python in c:\\users\\hp\\appdata\\roaming\\python\\python39\\site-packages (4.6.0.66)\n",
      "Requirement already satisfied: numpy>=1.19.3 in c:\\programdata\\anaconda3\\lib\\site-packages (from opencv-python) (1.21.5)\n"
     ]
    }
   ],
   "source": [
    "!pip install opencv-python"
   ]
  },
  {
   "cell_type": "code",
   "execution_count": 2,
   "id": "84f7bce2",
   "metadata": {},
   "outputs": [],
   "source": [
    "import cv2"
   ]
  },
  {
   "cell_type": "code",
   "execution_count": 3,
   "id": "24eb52c1",
   "metadata": {},
   "outputs": [
    {
     "name": "stdout",
     "output_type": "stream",
     "text": [
      "Microsoft Windows [Version 10.0.22000.978]\n",
      "(c) Microsoft Corporation. All rights reserved.\n",
      "\n",
      "(base) C:\\Users\\HP\\Desktop\\face recognition folder>where python\n",
      "C:\\ProgramData\\Anaconda3\\python.exe\n",
      "C:\\Users\\HP\\AppData\\Local\\Programs\\Python\\Python310\\python.exe\n",
      "C:\\Users\\HP\\AppData\\Local\\Microsoft\\WindowsApps\\python.exe\n",
      "\n",
      "(base) C:\\Users\\HP\\Desktop\\face recognition folder>"
     ]
    }
   ],
   "source": [
    "%%cmd\n",
    "where python"
   ]
  },
  {
   "cell_type": "code",
   "execution_count": 4,
   "id": "640e362b",
   "metadata": {},
   "outputs": [
    {
     "name": "stdout",
     "output_type": "stream",
     "text": [
      "Microsoft Windows [Version 10.0.22000.978]\n",
      "(c) Microsoft Corporation. All rights reserved.\n",
      "\n",
      "(base) C:\\Users\\HP\\Desktop\\face recognition folder>pip install C:\\Users\\HP\\Downloads\\dlib-19.23.0-cp39-cp39-win_amd64.whl\"\n",
      "Defaulting to user installation because normal site-packages is not writeable\n",
      "Processing c:\\users\\hp\\downloads\\dlib-19.23.0-cp39-cp39-win_amd64.whl\n",
      "dlib is already installed with the same version as the provided wheel. Use --force-reinstall to force an installation of the wheel.\n",
      "\n",
      "(base) C:\\Users\\HP\\Desktop\\face recognition folder>"
     ]
    }
   ],
   "source": [
    "%%cmd\n",
    "pip install C:\\Users\\HP\\Downloads\\dlib-19.23.0-cp39-cp39-win_amd64.whl\""
   ]
  },
  {
   "cell_type": "code",
   "execution_count": 5,
   "id": "6abf25e9",
   "metadata": {},
   "outputs": [
    {
     "name": "stdout",
     "output_type": "stream",
     "text": [
      "Microsoft Windows [Version 10.0.22000.978]\n",
      "(c) Microsoft Corporation. All rights reserved.\n",
      "\n",
      "(base) C:\\Users\\HP\\Desktop\\face recognition folder>pip install face-recognition\n",
      "Defaulting to user installation because normal site-packages is not writeable\n",
      "Requirement already satisfied: face-recognition in c:\\users\\hp\\appdata\\roaming\\python\\python39\\site-packages (1.3.0)\n",
      "Requirement already satisfied: Pillow in c:\\programdata\\anaconda3\\lib\\site-packages (from face-recognition) (9.0.1)\n",
      "Requirement already satisfied: face-recognition-models>=0.3.0 in c:\\users\\hp\\appdata\\roaming\\python\\python39\\site-packages (from face-recognition) (0.3.0)\n",
      "Requirement already satisfied: Click>=6.0 in c:\\programdata\\anaconda3\\lib\\site-packages (from face-recognition) (8.0.4)\n",
      "Requirement already satisfied: numpy in c:\\programdata\\anaconda3\\lib\\site-packages (from face-recognition) (1.21.5)\n",
      "Requirement already satisfied: dlib>=19.7 in c:\\users\\hp\\appdata\\roaming\\python\\python39\\site-packages (from face-recognition) (19.23.0)\n",
      "Requirement already satisfied: colorama in c:\\programdata\\anaconda3\\lib\\site-packages (from Click>=6.0->face-recognition) (0.4.4)\n",
      "\n",
      "(base) C:\\Users\\HP\\Desktop\\face recognition folder>"
     ]
    }
   ],
   "source": [
    "%%cmd \n",
    "pip install face-recognition"
   ]
  },
  {
   "cell_type": "code",
   "execution_count": 6,
   "id": "aab0ab28",
   "metadata": {},
   "outputs": [
    {
     "name": "stdout",
     "output_type": "stream",
     "text": [
      "Defaulting to user installation because normal site-packages is not writeable\n",
      "Requirement already satisfied: face-recognition-models in c:\\users\\hp\\appdata\\roaming\\python\\python39\\site-packages (0.3.0)\n",
      "Note: you may need to restart the kernel to use updated packages.\n"
     ]
    }
   ],
   "source": [
    "pip install face-recognition-models"
   ]
  },
  {
   "cell_type": "code",
   "execution_count": 7,
   "id": "55c41437",
   "metadata": {},
   "outputs": [],
   "source": [
    "import os\n",
    "import cv2\n",
    "import numpy as np\n",
    "import face_recognition\n",
    "from matplotlib import pyplot as plt"
   ]
  },
  {
   "cell_type": "code",
   "execution_count": 8,
   "id": "bd36cb6a",
   "metadata": {},
   "outputs": [],
   "source": [
    "faceCascade = cv2.CascadeClassifier(\"C:\\\\Users\\\\HP\\\\Desktop\\\\face recognition folder\\\\haarcascade_frontalface_default.xml\")\n",
    "smileCascade = cv2.CascadeClassifier(\"C:\\\\Users\\\\HP\\\\Desktop\\\\face recognition folder\\\\haarcascade_smile.xml\")\n",
    "cap=cv2.VideoCapture(0)\n",
    "cap = cv2.VideoCapture(0)\n",
    "cap.set(3,640) # set Width\n",
    "cap.set(4,480) # set Height\n",
    "#detect faces\n",
    "\n",
    "\n",
    "#Loop through every frame until we close our webcam\n",
    "while cap.isOpened():\n",
    "    ret, frame= cap.read()\n",
    "    gray = cv2.cvtColor(frame, cv2.COLOR_BGR2GRAY)\n",
    "    \n",
    "    \n",
    "    #detect faces\n",
    "    faces = faceCascade.detectMultiScale(\n",
    "        gray,     \n",
    "        scaleFactor=1.2,\n",
    "        minNeighbors=5,     \n",
    "        minSize=(20, 20)\n",
    "    )\n",
    "                 \n",
    "    for (x,y,w,h) in faces:\n",
    "        \n",
    "        cv2.rectangle(frame,(x,y),(x+w,y+h),(255,0,0),2)\n",
    "        roi_gray = gray[y:y+h, x:x+w]\n",
    "        roi_color = frame[y:y+h, x:x+w]\n",
    "        \n",
    "        smile = smileCascade.detectMultiScale(\n",
    "            roi_gray,\n",
    "            scaleFactor= 1.5,\n",
    "            minNeighbors=15,\n",
    "            minSize=(25, 25),\n",
    "            )\n",
    "        \n",
    "        for (xx, yy, ww, hh) in smile:\n",
    "            cv2.rectangle(roi_color, (xx, yy), (xx + ww, yy + hh), (0, 255, 0), 2)\n",
    "    #Show image\n",
    "        cv2.imshow('Webcam',frame)\n",
    "    \n",
    "    #Checks whether q has been hit and stops the loop\n",
    "    if cv2.waitKey(1) &0xFF ==ord('q'):\n",
    "        break\n",
    "cap.release()\n",
    "cv2.destroyAllWindows()"
   ]
  },
  {
   "cell_type": "code",
   "execution_count": null,
   "id": "77c99c0d",
   "metadata": {},
   "outputs": [],
   "source": []
  }
 ],
 "metadata": {
  "kernelspec": {
   "display_name": "Python 3 (ipykernel)",
   "language": "python",
   "name": "python3"
  },
  "language_info": {
   "codemirror_mode": {
    "name": "ipython",
    "version": 3
   },
   "file_extension": ".py",
   "mimetype": "text/x-python",
   "name": "python",
   "nbconvert_exporter": "python",
   "pygments_lexer": "ipython3",
   "version": "3.9.12"
  }
 },
 "nbformat": 4,
 "nbformat_minor": 5
}
